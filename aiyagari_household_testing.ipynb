{
 "cells": [
  {
   "cell_type": "code",
   "execution_count": 1,
   "metadata": {
    "collapsed": true
   },
   "outputs": [],
   "source": [
    "import numpy as np\n",
    "from numba import jit\n",
    "\n",
    "@jit(nopython=True)\n",
    "def populate_R(R, a_size, z_size, a_vals, z_vals, r, w):\n",
    "    n = a_size * z_size\n",
    "    for s_i in range(n):\n",
    "        a_i = s_i // z_size\n",
    "        z_i = s_i % z_size\n",
    "        a = a_vals[a_i]\n",
    "        z = z_vals[z_i]\n",
    "        for new_a_i in range(a_size):\n",
    "            a_new = a_vals[new_a_i]\n",
    "            c = w * z + (1 + r) * a - a_new\n",
    "            if c > 0:\n",
    "                R[s_i, new_a_i] = np.log(c)  # Utility"
   ]
  },
  {
   "cell_type": "code",
   "execution_count": 6,
   "metadata": {
    "collapsed": false
   },
   "outputs": [
    {
     "name": "stdout",
     "output_type": "stream",
     "text": [
      "1000 loops, best of 3: 986 µs per loop\n"
     ]
    }
   ],
   "source": [
    "n=2*200\n",
    "R = np.empty((n, 200))\n",
    "%timeit populate_R(R,200,2,np.linspace(1e-10, 18.0, 200), [0.1, 1.0], 0.01,1.0)"
   ]
  },
  {
   "cell_type": "code",
   "execution_count": null,
   "metadata": {
    "collapsed": true
   },
   "outputs": [],
   "source": []
  }
 ],
 "metadata": {
  "anaconda-cloud": {},
  "kernelspec": {
   "display_name": "Python [Root]",
   "language": "python",
   "name": "Python [Root]"
  },
  "language_info": {
   "codemirror_mode": {
    "name": "ipython",
    "version": 3
   },
   "file_extension": ".py",
   "mimetype": "text/x-python",
   "name": "python",
   "nbconvert_exporter": "python",
   "pygments_lexer": "ipython3",
   "version": "3.5.2"
  }
 },
 "nbformat": 4,
 "nbformat_minor": 0
}
