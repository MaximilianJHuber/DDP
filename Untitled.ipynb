{
 "cells": [
  {
   "cell_type": "code",
   "execution_count": null,
   "metadata": {
    "collapsed": true
   },
   "outputs": [],
   "source": [
    "def bellman_operator(w, grid, beta, u, f, shocks, Tw=None, compute_policy=0):\n",
    "    \"\"\"\n",
    "    The approximate Bellman operator, which computes and returns the\n",
    "    updated value function Tw on the grid points.  An array to store\n",
    "    the new set of values Tw is optionally supplied (to avoid having to\n",
    "    allocate new arrays at each iteration).  If supplied, any existing data in \n",
    "    Tw will be overwritten.\n",
    "\n",
    "    Parameters\n",
    "    ----------\n",
    "    w : array_like(float, ndim=1)\n",
    "        The value of the input function on different grid points\n",
    "    grid : array_like(float, ndim=1)\n",
    "        The set of grid points\n",
    "    u : function\n",
    "        The utility function\n",
    "    f : function\n",
    "        The production function\n",
    "    shocks : numpy array\n",
    "        An array of draws from the shock, for Monte Carlo integration (to\n",
    "        compute expectations).\n",
    "    beta : scalar\n",
    "        The discount factor\n",
    "    Tw : array_like(float, ndim=1) optional (default=None)\n",
    "        Array to write output values to\n",
    "    compute_policy : Boolean, optional (default=False)\n",
    "        Whether or not to compute policy function\n",
    "\n",
    "    \"\"\"\n",
    "    # === Apply linear interpolation to w === #\n",
    "    w_func = lambda x: interp(x, grid, w)\n",
    "\n",
    "    # == Initialize Tw if necessary == #\n",
    "    if Tw is None:\n",
    "        Tw = np.empty(len(w))\n",
    "\n",
    "    if compute_policy:\n",
    "        sigma = np.empty(len(w))\n",
    "\n",
    "    # == set Tw[i] = max_c { u(c) + beta E w(f(y  - c) z)} == #\n",
    "    for i, y in enumerate(grid):\n",
    "        def objective(c):\n",
    "            return - u(c) - beta * np.mean(w_func(f(y - c) * shocks))\n",
    "        c_star = fminbound(objective, 1e-10, y)\n",
    "        if compute_policy:\n",
    "            sigma[i] = c_star\n",
    "        Tw[i] = - objective(c_star)\n",
    "\n",
    "    if compute_policy:\n",
    "        return Tw, sigma\n",
    "    else:\n",
    "        return Tw\n"
   ]
  },
  {
   "cell_type": "code",
   "execution_count": 26,
   "metadata": {
    "collapsed": false
   },
   "outputs": [
    {
     "name": "stderr",
     "output_type": "stream",
     "text": [
      "INFO: Cloning cache of Calculus from git://github.com/johnmyleswhite/Calculus.jl.git\n",
      "INFO: Cloning cache of DualNumbers from git://github.com/JuliaDiff/DualNumbers.jl.git\n",
      "INFO: Cloning cache of NaNMath from git://github.com/mlubin/NaNMath.jl.git\n",
      "INFO: Cloning cache of Optim from git://github.com/JuliaOpt/Optim.jl.git\n",
      "INFO: Cloning cache of PositiveFactorizations from git://github.com/timholy/PositiveFactorizations.jl.git\n",
      "INFO: Installing Calculus v0.1.15\n",
      "INFO: Installing DualNumbers v0.2.2\n",
      "INFO: Installing NaNMath v0.2.1\n",
      "INFO: Installing Optim v0.5.0\n",
      "INFO: Installing PositiveFactorizations v0.0.1\n",
      "INFO: Package database updated\n",
      "INFO: METADATA is out-of-date — you may not have the latest version of Optim\n",
      "INFO: Use `Pkg.update()` to get the latest versions of your packages\n"
     ]
    }
   ],
   "source": [
    "Pkg.add(\"Optim\")"
   ]
  },
  {
   "cell_type": "code",
   "execution_count": 3,
   "metadata": {
    "collapsed": false
   },
   "outputs": [
    {
     "data": {
      "text/plain": [
       "bellman_operator (generic function with 4 methods)"
      ]
     },
     "execution_count": 3,
     "metadata": {},
     "output_type": "execute_result"
    }
   ],
   "source": [
    "bellman_operator(w,grid,beta,u,f,shocks,compute_policy::Bool=false) = bellman_operator(w,grid,beta,u,f,shocks,zeros(length(w)),compute_policy)\n",
    "\n",
    "function bellman_operator(w,grid,beta,u,f,shocks,Tw,compute_policy::Bool=false)\n",
    "    Aw = scale(interpolate(w, BSpline(Linear()), OnGrid()), grid)\n",
    "    \n",
    "    if compute_policy\n",
    "        sigma = Array(Float64,lenght(w))\n",
    "    end\n",
    "            \n",
    "    for (i,y) = enumerate(grid)\n",
    "        objective(c) = - u(c) - beta * mean(w_func(f(y - c) * shocks))\n",
    "        c_star = optimize(objective, 1e-6,y)\n",
    "        \n",
    "        if compute_policy\n",
    "            sigma[i] = c_star\n",
    "        end\n",
    "        \n",
    "        Tw[i] = -objective(c_star)\n",
    "    end\n",
    "\n",
    "    if compute_policy\n",
    "        return Tw, sigma\n",
    "    else\n",
    "        return Tw\n",
    "    end\n",
    "end"
   ]
  },
  {
   "cell_type": "code",
   "execution_count": 30,
   "metadata": {
    "collapsed": false
   },
   "outputs": [],
   "source": [
    "using Distributions\n",
    "using QuantEcon\n",
    "using Interpolations\n",
    "using Optim\n",
    "\n",
    "alpha=0.65\n",
    "beta=0.95\n",
    "mu=1\n",
    "sigma=0.1\n",
    "grid_max=8\n",
    "grid_size=150\n",
    "\n",
    "grid = linspace(1e-5, grid_max, grid_size)\n",
    "shocks = exp(mu + sigma * rand(Normal(),250));"
   ]
  },
  {
   "cell_type": "code",
   "execution_count": 31,
   "metadata": {
    "collapsed": false
   },
   "outputs": [
    {
     "ename": "LoadError",
     "evalue": "LoadError: UndefVarError: w_func not defined\nwhile loading In[31], in expression starting on line 1",
     "output_type": "error",
     "traceback": [
      "LoadError: UndefVarError: w_func not defined\nwhile loading In[31], in expression starting on line 1",
      "",
      " in objective at In[3]:11",
      " in __optimize#19__ at /Users/Max/.julia/v0.4/Optim/src/brent.jl:48",
      " in optimize at /Users/Max/.julia/v0.4/Optim/src/optimize.jl:188",
      " in bellman_operator at In[3]:12",
      " in anonymous at In[31]:1",
      " in compute_fixed_point at /Users/Max/.julia/v0.4/QuantEcon/src/compute_fp.jl:55"
     ]
    }
   ],
   "source": [
    "v_star = compute_fixed_point(v -> bellman_operator(v,grid,beta,log,x -> x.^alpha,shocks,zeros(grid_size),false),collect(5 * log(grid) - 25))"
   ]
  },
  {
   "cell_type": "code",
   "execution_count": null,
   "metadata": {
    "collapsed": true
   },
   "outputs": [],
   "source": []
  }
 ],
 "metadata": {
  "anaconda-cloud": {},
  "kernelspec": {
   "display_name": "Julia 0.4.6",
   "language": "julia",
   "name": "julia-0.4"
  },
  "language_info": {
   "file_extension": ".jl",
   "mimetype": "application/julia",
   "name": "julia",
   "version": "0.4.6"
  }
 },
 "nbformat": 4,
 "nbformat_minor": 0
}
