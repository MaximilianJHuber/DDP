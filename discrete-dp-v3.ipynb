{
 "cells": [
  {
   "cell_type": "markdown",
   "metadata": {},
   "source": [
    "Example: A Growth Model\n",
    "=="
   ]
  },
  {
   "cell_type": "code",
   "execution_count": 1,
   "metadata": {
    "collapsed": false
   },
   "outputs": [],
   "source": [
    "B=10; M=5; alpha=0.5; beta=0.9\n",
    "u(c) = c^alpha\n",
    "\n",
    "n=B+M+1\n",
    "m=M+1\n",
    "\n",
    "R = Array(Float64,n,m)\n",
    "Q = zeros(Float64,n,m,n)\n",
    "\n",
    "[R[s+1,a+1] = a<=s ? u(s-a) : -Inf for a=0:M, s=0:(B+M)]\n",
    "[Q[:,a+1,(a:(a+B))+1] = 1/(B+1) for a=0:M];"
   ]
  },
  {
   "cell_type": "code",
   "execution_count": 2,
   "metadata": {
    "collapsed": false
   },
   "outputs": [
    {
     "name": "stderr",
     "output_type": "stream",
     "text": [
      "INFO: Recompiling stale cache file /home/juser/.julia/lib/v0.4/ForwardDiff.ji for module ForwardDiff.\n",
      "INFO: Recompiling stale cache file /home/juser/.julia/lib/v0.4/QuantEcon.ji for module QuantEcon.\n",
      "INFO: Recompiling stale cache file /home/juser/.julia/lib/v0.4/Distributions.ji for module Distributions.\n",
      "INFO: Recompiling stale cache file /home/juser/.julia/lib/v0.4/ReverseDiffSparse.ji for module ReverseDiffSparse.\n",
      "INFO: Recompiling stale cache file /home/juser/.julia/lib/v0.4/LightGraphs.ji for module LightGraphs.\n",
      "INFO: Recompiling stale cache file /home/juser/.julia/lib/v0.4/JuMP.ji for module JuMP.\n"
     ]
    },
    {
     "data": {
      "text/plain": [
       "QuantEcon.DiscreteDP{Float64,3,2,Float64,Int64}(16x6 Array{Float64,2}:\n",
       " 0.0      -Inf        -Inf        -Inf        -Inf        -Inf      \n",
       " 1.0         0.0      -Inf        -Inf        -Inf        -Inf      \n",
       " 1.41421     1.0         0.0      -Inf        -Inf        -Inf      \n",
       " 1.73205     1.41421     1.0         0.0      -Inf        -Inf      \n",
       " 2.0         1.73205     1.41421     1.0         0.0      -Inf      \n",
       " 2.23607     2.0         1.73205     1.41421     1.0         0.0    \n",
       " 2.44949     2.23607     2.0         1.73205     1.41421     1.0    \n",
       " 2.64575     2.44949     2.23607     2.0         1.73205     1.41421\n",
       " 2.82843     2.64575     2.44949     2.23607     2.0         1.73205\n",
       " 3.0         2.82843     2.64575     2.44949     2.23607     2.0    \n",
       " 3.16228     3.0         2.82843     2.64575     2.44949     2.23607\n",
       " 3.31662     3.16228     3.0         2.82843     2.64575     2.44949\n",
       " 3.4641      3.31662     3.16228     3.0         2.82843     2.64575\n",
       " 3.60555     3.4641      3.31662     3.16228     3.0         2.82843\n",
       " 3.74166     3.60555     3.4641      3.31662     3.16228     3.0    \n",
       " 3.87298     3.74166     3.60555     3.4641      3.31662     3.16228,16x6x16 Array{Float64,3}:\n",
       "[:, :, 1] =\n",
       " 0.0909091  0.0  0.0  0.0  0.0  0.0\n",
       " 0.0909091  0.0  0.0  0.0  0.0  0.0\n",
       " 0.0909091  0.0  0.0  0.0  0.0  0.0\n",
       " 0.0909091  0.0  0.0  0.0  0.0  0.0\n",
       " 0.0909091  0.0  0.0  0.0  0.0  0.0\n",
       " 0.0909091  0.0  0.0  0.0  0.0  0.0\n",
       " 0.0909091  0.0  0.0  0.0  0.0  0.0\n",
       " 0.0909091  0.0  0.0  0.0  0.0  0.0\n",
       " 0.0909091  0.0  0.0  0.0  0.0  0.0\n",
       " 0.0909091  0.0  0.0  0.0  0.0  0.0\n",
       " 0.0909091  0.0  0.0  0.0  0.0  0.0\n",
       " 0.0909091  0.0  0.0  0.0  0.0  0.0\n",
       " 0.0909091  0.0  0.0  0.0  0.0  0.0\n",
       " 0.0909091  0.0  0.0  0.0  0.0  0.0\n",
       " 0.0909091  0.0  0.0  0.0  0.0  0.0\n",
       " 0.0909091  0.0  0.0  0.0  0.0  0.0\n",
       "\n",
       "[:, :, 2] =\n",
       " 0.0909091  0.0909091  0.0  0.0  0.0  0.0\n",
       " 0.0909091  0.0909091  0.0  0.0  0.0  0.0\n",
       " 0.0909091  0.0909091  0.0  0.0  0.0  0.0\n",
       " 0.0909091  0.0909091  0.0  0.0  0.0  0.0\n",
       " 0.0909091  0.0909091  0.0  0.0  0.0  0.0\n",
       " 0.0909091  0.0909091  0.0  0.0  0.0  0.0\n",
       " 0.0909091  0.0909091  0.0  0.0  0.0  0.0\n",
       " 0.0909091  0.0909091  0.0  0.0  0.0  0.0\n",
       " 0.0909091  0.0909091  0.0  0.0  0.0  0.0\n",
       " 0.0909091  0.0909091  0.0  0.0  0.0  0.0\n",
       " 0.0909091  0.0909091  0.0  0.0  0.0  0.0\n",
       " 0.0909091  0.0909091  0.0  0.0  0.0  0.0\n",
       " 0.0909091  0.0909091  0.0  0.0  0.0  0.0\n",
       " 0.0909091  0.0909091  0.0  0.0  0.0  0.0\n",
       " 0.0909091  0.0909091  0.0  0.0  0.0  0.0\n",
       " 0.0909091  0.0909091  0.0  0.0  0.0  0.0\n",
       "\n",
       "[:, :, 3] =\n",
       " 0.0909091  0.0909091  0.0909091  0.0  0.0  0.0\n",
       " 0.0909091  0.0909091  0.0909091  0.0  0.0  0.0\n",
       " 0.0909091  0.0909091  0.0909091  0.0  0.0  0.0\n",
       " 0.0909091  0.0909091  0.0909091  0.0  0.0  0.0\n",
       " 0.0909091  0.0909091  0.0909091  0.0  0.0  0.0\n",
       " 0.0909091  0.0909091  0.0909091  0.0  0.0  0.0\n",
       " 0.0909091  0.0909091  0.0909091  0.0  0.0  0.0\n",
       " 0.0909091  0.0909091  0.0909091  0.0  0.0  0.0\n",
       " 0.0909091  0.0909091  0.0909091  0.0  0.0  0.0\n",
       " 0.0909091  0.0909091  0.0909091  0.0  0.0  0.0\n",
       " 0.0909091  0.0909091  0.0909091  0.0  0.0  0.0\n",
       " 0.0909091  0.0909091  0.0909091  0.0  0.0  0.0\n",
       " 0.0909091  0.0909091  0.0909091  0.0  0.0  0.0\n",
       " 0.0909091  0.0909091  0.0909091  0.0  0.0  0.0\n",
       " 0.0909091  0.0909091  0.0909091  0.0  0.0  0.0\n",
       " 0.0909091  0.0909091  0.0909091  0.0  0.0  0.0\n",
       "\n",
       "...\n",
       "\n",
       "[:, :, 14] =\n",
       " 0.0  0.0  0.0  0.0909091  0.0909091  0.0909091\n",
       " 0.0  0.0  0.0  0.0909091  0.0909091  0.0909091\n",
       " 0.0  0.0  0.0  0.0909091  0.0909091  0.0909091\n",
       " 0.0  0.0  0.0  0.0909091  0.0909091  0.0909091\n",
       " 0.0  0.0  0.0  0.0909091  0.0909091  0.0909091\n",
       " 0.0  0.0  0.0  0.0909091  0.0909091  0.0909091\n",
       " 0.0  0.0  0.0  0.0909091  0.0909091  0.0909091\n",
       " 0.0  0.0  0.0  0.0909091  0.0909091  0.0909091\n",
       " 0.0  0.0  0.0  0.0909091  0.0909091  0.0909091\n",
       " 0.0  0.0  0.0  0.0909091  0.0909091  0.0909091\n",
       " 0.0  0.0  0.0  0.0909091  0.0909091  0.0909091\n",
       " 0.0  0.0  0.0  0.0909091  0.0909091  0.0909091\n",
       " 0.0  0.0  0.0  0.0909091  0.0909091  0.0909091\n",
       " 0.0  0.0  0.0  0.0909091  0.0909091  0.0909091\n",
       " 0.0  0.0  0.0  0.0909091  0.0909091  0.0909091\n",
       " 0.0  0.0  0.0  0.0909091  0.0909091  0.0909091\n",
       "\n",
       "[:, :, 15] =\n",
       " 0.0  0.0  0.0  0.0  0.0909091  0.0909091\n",
       " 0.0  0.0  0.0  0.0  0.0909091  0.0909091\n",
       " 0.0  0.0  0.0  0.0  0.0909091  0.0909091\n",
       " 0.0  0.0  0.0  0.0  0.0909091  0.0909091\n",
       " 0.0  0.0  0.0  0.0  0.0909091  0.0909091\n",
       " 0.0  0.0  0.0  0.0  0.0909091  0.0909091\n",
       " 0.0  0.0  0.0  0.0  0.0909091  0.0909091\n",
       " 0.0  0.0  0.0  0.0  0.0909091  0.0909091\n",
       " 0.0  0.0  0.0  0.0  0.0909091  0.0909091\n",
       " 0.0  0.0  0.0  0.0  0.0909091  0.0909091\n",
       " 0.0  0.0  0.0  0.0  0.0909091  0.0909091\n",
       " 0.0  0.0  0.0  0.0  0.0909091  0.0909091\n",
       " 0.0  0.0  0.0  0.0  0.0909091  0.0909091\n",
       " 0.0  0.0  0.0  0.0  0.0909091  0.0909091\n",
       " 0.0  0.0  0.0  0.0  0.0909091  0.0909091\n",
       " 0.0  0.0  0.0  0.0  0.0909091  0.0909091\n",
       "\n",
       "[:, :, 16] =\n",
       " 0.0  0.0  0.0  0.0  0.0  0.0909091\n",
       " 0.0  0.0  0.0  0.0  0.0  0.0909091\n",
       " 0.0  0.0  0.0  0.0  0.0  0.0909091\n",
       " 0.0  0.0  0.0  0.0  0.0  0.0909091\n",
       " 0.0  0.0  0.0  0.0  0.0  0.0909091\n",
       " 0.0  0.0  0.0  0.0  0.0  0.0909091\n",
       " 0.0  0.0  0.0  0.0  0.0  0.0909091\n",
       " 0.0  0.0  0.0  0.0  0.0  0.0909091\n",
       " 0.0  0.0  0.0  0.0  0.0  0.0909091\n",
       " 0.0  0.0  0.0  0.0  0.0  0.0909091\n",
       " 0.0  0.0  0.0  0.0  0.0  0.0909091\n",
       " 0.0  0.0  0.0  0.0  0.0  0.0909091\n",
       " 0.0  0.0  0.0  0.0  0.0  0.0909091\n",
       " 0.0  0.0  0.0  0.0  0.0  0.0909091\n",
       " 0.0  0.0  0.0  0.0  0.0  0.0909091\n",
       " 0.0  0.0  0.0  0.0  0.0  0.0909091,0.9,Nullable{Array{Int64,1}}(),Nullable{Array{Int64,1}}(),Nullable{Array{Int64,1}}())"
      ]
     },
     "execution_count": 2,
     "metadata": {},
     "output_type": "execute_result"
    }
   ],
   "source": [
    "using QuantEcon\n",
    "ddp = DiscreteDP(R,Q,beta)"
   ]
  },
  {
   "cell_type": "code",
   "execution_count": 14,
   "metadata": {
    "collapsed": false
   },
   "outputs": [
    {
     "ename": "LoadError",
     "evalue": "LoadError: UndefVarError: solve not defined\nwhile loading In[14], in expression starting on line 1",
     "output_type": "error",
     "traceback": [
      "LoadError: UndefVarError: solve not defined\nwhile loading In[14], in expression starting on line 1",
      ""
     ]
    }
   ],
   "source": [
    "results = solve(ddp,PFI)"
   ]
  },
  {
   "cell_type": "code",
   "execution_count": 15,
   "metadata": {
    "collapsed": false
   },
   "outputs": [
    {
     "ename": "LoadError",
     "evalue": "LoadError: UndefVarError: results not defined\nwhile loading In[15], in expression starting on line 1",
     "output_type": "error",
     "traceback": [
      "LoadError: UndefVarError: results not defined\nwhile loading In[15], in expression starting on line 1",
      ""
     ]
    }
   ],
   "source": [
    "fieldnames(results)"
   ]
  },
  {
   "cell_type": "code",
   "execution_count": 16,
   "metadata": {
    "collapsed": false
   },
   "outputs": [
    {
     "ename": "LoadError",
     "evalue": "LoadError: UndefVarError: results not defined\nwhile loading In[16], in expression starting on line 1",
     "output_type": "error",
     "traceback": [
      "LoadError: UndefVarError: results not defined\nwhile loading In[16], in expression starting on line 1",
      ""
     ]
    }
   ],
   "source": [
    "results.v"
   ]
  },
  {
   "cell_type": "code",
   "execution_count": null,
   "metadata": {
    "collapsed": true
   },
   "outputs": [],
   "source": [
    "using PyPlot\n",
    "bar(0:(B+M),mc_compute_stationary(ddp.mc))"
   ]
  },
  {
   "cell_type": "code",
   "execution_count": 20,
   "metadata": {
    "collapsed": false
   },
   "outputs": [
    {
     "name": "stderr",
     "output_type": "stream",
     "text": [
      "INFO: Cloning cache of ColorTypes from git://github.com/JuliaGraphics/ColorTypes.jl.git\n",
      "INFO: Cloning cache of Colors from git://github.com/JuliaGraphics/Colors.jl.git\n",
      "INFO: Cloning cache of Conda from git://github.com/Luthaf/Conda.jl.git\n",
      "INFO: Cloning cache of FixedPointNumbers from git://github.com/JeffBezanson/FixedPointNumbers.jl.git\n",
      "INFO: Cloning cache of JSON from git://github.com/JuliaLang/JSON.jl.git\n",
      "INFO: Cloning cache of LaTeXStrings from git://github.com/stevengj/LaTeXStrings.jl.git\n",
      "INFO: Cloning cache of PyCall from git://github.com/stevengj/PyCall.jl.git\n",
      "INFO: Cloning cache of PyPlot from git://github.com/stevengj/PyPlot.jl.git\n",
      "INFO: Installing ColorTypes v0.2.3\n",
      "INFO: Installing Colors v0.6.5\n",
      "INFO: Installing Conda v0.2.2\n",
      "INFO: Installing FixedPointNumbers v0.1.3\n",
      "INFO: Installing JSON v0.6.0\n",
      "INFO: Installing LaTeXStrings v0.1.6\n",
      "INFO: Installing PyCall v1.6.3\n",
      "INFO: Installing PyPlot v2.2.0\n",
      "INFO: Building PyCall\n",
      "INFO: Recompiling stale cache file /opt/julia_packages/.julia/lib/v0.4/Conda.ji for module Conda.\n",
      "INFO: Recompiling stale cache file /opt/julia_packages/.julia/lib/v0.4/JSON.ji for module JSON.\n",
      "WARNING: Module Compat uuid did not match cache file\n",
      "  This is likely because module Compat does not support  precompilation but is imported by a module that does.\n",
      "WARNING: deserialization checks failed while attempting to load cache from /opt/julia_packages/.julia/lib/v0.4/JSON.ji\n",
      "WARNING: Module Compat uuid did not match cache file\n",
      "  This is likely because module Compat does not support  precompilation but is imported by a module that does.\n",
      "WARNING: deserialization checks failed while attempting to load cache from /opt/julia_packages/.julia/lib/v0.4/Conda.ji\n",
      "INFO: PyCall is using python (Python 2.7.6) at /usr/bin/python, libpython = libpython2.7\n",
      "INFO: Package database updated\n"
     ]
    }
   ],
   "source": [
    "Pkg.add(\"PyPlot\")"
   ]
  },
  {
   "cell_type": "code",
   "execution_count": 21,
   "metadata": {
    "collapsed": false
   },
   "outputs": [
    {
     "name": "stderr",
     "output_type": "stream",
     "text": [
      "INFO: No packages to install, update or remove\n",
      "INFO: Package database updated\n"
     ]
    }
   ],
   "source": [
    "Pkg.add(\"Distributions\")"
   ]
  },
  {
   "cell_type": "code",
   "execution_count": 22,
   "metadata": {
    "collapsed": false
   },
   "outputs": [
    {
     "name": "stderr",
     "output_type": "stream",
     "text": [
      "INFO: Recompiling stale cache file /home/juser/.julia/lib/v0.4/PDMats.ji for module PDMats.\n",
      "WARNING: Module Compat uuid did not match cache file\n",
      "  This is likely because module Compat does not support  precompilation but is imported by a module that does.\n",
      "WARNING: deserialization checks failed while attempting to load cache from /home/juser/.julia/lib/v0.4/PDMats.ji\n",
      "INFO: Precompiling module PDMats...\n",
      "INFO: Recompiling stale cache file /home/juser/.julia/lib/v0.4/PDMats.ji for module PDMats.\n",
      "WARNING: Module Compat uuid did not match cache file\n",
      "  This is likely because module Compat does not support  precompilation but is imported by a module that does.\n"
     ]
    },
    {
     "ename": "LoadError",
     "evalue": "LoadError: __precompile__(true) but require failed to create a precompiled cache file\nwhile loading In[22], in expression starting on line 1",
     "output_type": "error",
     "traceback": [
      "LoadError: __precompile__(true) but require failed to create a precompiled cache file\nwhile loading In[22], in expression starting on line 1",
      "",
      " in require at ./loading.jl:268",
      " in stale_cachefile at loading.jl:457",
      " in recompile_stale at loading.jl:474",
      " in _require_from_serialized at loading.jl:83",
      " in _require_from_serialized at ./loading.jl:109",
      " in require at ./loading.jl:235"
     ]
    }
   ],
   "source": [
    "using Distributions"
   ]
  },
  {
   "cell_type": "code",
   "execution_count": 23,
   "metadata": {
    "collapsed": false
   },
   "outputs": [
    {
     "name": "stderr",
     "output_type": "stream",
     "text": [
      "INFO: Precompiling module PyPlot...\n",
      "INFO: Recompiling stale cache file /home/juser/.julia/lib/v0.4/Conda.ji for module Conda.\n",
      "INFO: Recompiling stale cache file /home/juser/.julia/lib/v0.4/URIParser.ji for module URIParser.\n",
      "WARNING: Module Compat uuid did not match cache file\n",
      "  This is likely because module Compat does not support  precompilation but is imported by a module that does.\n",
      "WARNING: deserialization checks failed while attempting to load cache from /home/juser/.julia/lib/v0.4/URIParser.ji\n",
      "INFO: Recompiling stale cache file /opt/julia_packages/.julia/lib/v0.4/URIParser.ji for module URIParser.\n",
      "INFO: Recompiling stale cache file /home/juser/.julia/lib/v0.4/BinDeps.ji for module BinDeps.\n",
      "WARNING: Module URIParser uuid did not match cache file\n",
      "  This is likely because module URIParser does not support  precompilation but is imported by a module that does.\n",
      "WARNING: deserialization checks failed while attempting to load cache from /home/juser/.julia/lib/v0.4/BinDeps.ji\n",
      "INFO: Recompiling stale cache file /opt/julia_packages/.julia/lib/v0.4/BinDeps.ji for module BinDeps.\n",
      "INFO: Recompiling stale cache file /home/juser/.julia/lib/v0.4/SHA.ji for module SHA.\n",
      "WARNING: Module Compat uuid did not match cache file\n",
      "  This is likely because module Compat does not support  precompilation but is imported by a module that does.\n",
      "WARNING: deserialization checks failed while attempting to load cache from /home/juser/.julia/lib/v0.4/SHA.ji\n",
      "INFO: Recompiling stale cache file /opt/julia_packages/.julia/lib/v0.4/SHA.ji for module SHA.\n",
      "WARNING: Module BinDeps uuid did not match cache file\n",
      "  This is likely because module BinDeps does not support  precompilation but is imported by a module that does.\n",
      "WARNING: deserialization checks failed while attempting to load cache from /home/juser/.julia/lib/v0.4/Conda.ji\n",
      "INFO: Recompiling stale cache file /opt/julia_packages/.julia/lib/v0.4/Conda.ji for module Conda.\n",
      "INFO: Recompiling stale cache file /home/juser/.julia/lib/v0.4/BinDeps.ji for module BinDeps.\n",
      "INFO: Recompiling stale cache file /home/juser/.julia/lib/v0.4/PyPlot.ji for module PyPlot.\n",
      "INFO: Recompiling stale cache file /home/juser/.julia/lib/v0.4/PyCall.ji for module PyCall.\n",
      "WARNING: Module SHA uuid did not match cache file\n",
      "  This is likely because module SHA does not support  precompilation but is imported by a module that does.\n"
     ]
    },
    {
     "ename": "LoadError",
     "evalue": "LoadError: __precompile__(true) but require failed to create a precompiled cache file\nwhile loading In[23], in expression starting on line 1",
     "output_type": "error",
     "traceback": [
      "LoadError: __precompile__(true) but require failed to create a precompiled cache file\nwhile loading In[23], in expression starting on line 1",
      "",
      " in require at ./loading.jl:268"
     ]
    }
   ],
   "source": [
    "using PyPlot"
   ]
  },
  {
   "cell_type": "code",
   "execution_count": null,
   "metadata": {
    "collapsed": true
   },
   "outputs": [],
   "source": []
  }
 ],
 "metadata": {
  "kernelspec": {
   "display_name": "Julia 0.4.5",
   "language": "julia",
   "name": "julia-0.4"
  },
  "language_info": {
   "file_extension": ".jl",
   "mimetype": "application/julia",
   "name": "julia",
   "version": "0.4.5"
  }
 },
 "nbformat": 4,
 "nbformat_minor": 0
}
