{
 "cells": [
  {
   "cell_type": "code",
   "execution_count": null,
   "metadata": {
    "collapsed": true
   },
   "outputs": [],
   "source": [
    "def bellman_operator(w, grid, beta, u, f, shocks, Tw=None, compute_policy=0):\n",
    "    \"\"\"\n",
    "    The approximate Bellman operator, which computes and returns the\n",
    "    updated value function Tw on the grid points.  An array to store\n",
    "    the new set of values Tw is optionally supplied (to avoid having to\n",
    "    allocate new arrays at each iteration).  If supplied, any existing data in \n",
    "    Tw will be overwritten.\n",
    "\n",
    "    Parameters\n",
    "    ----------\n",
    "    w : array_like(float, ndim=1)\n",
    "        The value of the input function on different grid points\n",
    "    grid : array_like(float, ndim=1)\n",
    "        The set of grid points\n",
    "    u : function\n",
    "        The utility function\n",
    "    f : function\n",
    "        The production function\n",
    "    shocks : numpy array\n",
    "        An array of draws from the shock, for Monte Carlo integration (to\n",
    "        compute expectations).\n",
    "    beta : scalar\n",
    "        The discount factor\n",
    "    Tw : array_like(float, ndim=1) optional (default=None)\n",
    "        Array to write output values to\n",
    "    compute_policy : Boolean, optional (default=False)\n",
    "        Whether or not to compute policy function\n",
    "\n",
    "    \"\"\"\n",
    "    # === Apply linear interpolation to w === #\n",
    "    w_func = lambda x: interp(x, grid, w)\n",
    "\n",
    "    # == Initialize Tw if necessary == #\n",
    "    if Tw is None:\n",
    "        Tw = np.empty(len(w))\n",
    "\n",
    "    if compute_policy:\n",
    "        sigma = np.empty(len(w))\n",
    "\n",
    "    # == set Tw[i] = max_c { u(c) + beta E w(f(y  - c) z)} == #\n",
    "    for i, y in enumerate(grid):\n",
    "        def objective(c):\n",
    "            return - u(c) - beta * np.mean(w_func(f(y - c) * shocks))\n",
    "        c_star = fminbound(objective, 1e-10, y)\n",
    "        if compute_policy:\n",
    "            sigma[i] = c_star\n",
    "        Tw[i] = - objective(c_star)\n",
    "\n",
    "    if compute_policy:\n",
    "        return Tw, sigma\n",
    "    else:\n",
    "        return Tw\n"
   ]
  },
  {
   "cell_type": "code",
   "execution_count": 10,
   "metadata": {
    "collapsed": false
   },
   "outputs": [
    {
     "name": "stderr",
     "output_type": "stream",
     "text": [
      "INFO: Precompiling module WoodburyMatrices...\n",
      "INFO: Precompiling module AxisAlgorithms...\n"
     ]
    },
    {
     "ename": "LoadError",
     "evalue": "LoadError: ArgumentError: Optim not found in path\nwhile loading In[10], in expression starting on line 2",
     "output_type": "error",
     "traceback": [
      "LoadError: ArgumentError: Optim not found in path\nwhile loading In[10], in expression starting on line 2",
      "",
      " in require at /Applications/Julia-0.4.6.app/Contents/Resources/julia/lib/julia/sys.dylib"
     ]
    }
   ],
   "source": [
    "using Interpolations\n",
    "using Optim"
   ]
  },
  {
   "cell_type": "code",
   "execution_count": 23,
   "metadata": {
    "collapsed": false
   },
   "outputs": [
    {
     "name": "stderr",
     "output_type": "stream",
     "text": [
      "WARNING: New definition \n",
      "    bellman_operator(Any, Any, Any, Any, Any, Any, Bool) at In[23]:1\n",
      "is ambiguous with: \n",
      "    bellman_operator(Array{T<:Any, 1}, Any, Any, Any, Any, Any, Any).\n",
      "To fix, define \n",
      "    bellman_operator(Array{T<:Any, 1}, Any, Any, Any, Any, Any, Bool)\n",
      "before the new definition.\n"
     ]
    },
    {
     "data": {
      "text/plain": [
       "bellman_operator (generic function with 6 methods)"
      ]
     },
     "execution_count": 23,
     "metadata": {},
     "output_type": "execute_result"
    }
   ],
   "source": [
    "bellman_operator(w,grid,beta,u,f,shocks,compute_policy::Bool=false) = bellman_operator(w,grid,beta,u,f,shocks,zeros(length(w)),compute_policy)\n",
    "\n",
    "function bellman_operator(w,grid,beta,u,f,shocks,Tw,compute_policy::Bool=false)\n",
    "    Aw = scale(interpolate(w, BSpline(Linear()), OnGrid()), grid)\n",
    "    \n",
    "    if compute_policy\n",
    "        sigma = Array(Float64,lenght(w))\n",
    "    end\n",
    "            \n",
    "    for i,y in enumerate(grid)\n",
    "        objective(c) = - u(c) - beta * mean(w_func(f(y - c) * shocks))\n",
    "        c_star = optimize(objective, 1e-6,y)\n",
    "        \n",
    "        if compute_policy\n",
    "            sigma[i] = c_star\n",
    "        end\n",
    "        \n",
    "        Tw[i] = -objective(c_star)\n",
    "    end\n",
    "\n",
    "    if compute_policy\n",
    "        return Tw, sigma\n",
    "    else\n",
    "        return Tw\n",
    "end\n",
    "\n"
   ]
  },
  {
   "cell_type": "code",
   "execution_count": null,
   "metadata": {
    "collapsed": true
   },
   "outputs": [],
   "source": []
  }
 ],
 "metadata": {
  "anaconda-cloud": {},
  "kernelspec": {
   "display_name": "Julia 0.4.6",
   "language": "julia",
   "name": "julia-0.4"
  },
  "language_info": {
   "file_extension": ".jl",
   "mimetype": "application/julia",
   "name": "julia",
   "version": "0.4.6"
  }
 },
 "nbformat": 4,
 "nbformat_minor": 0
}
