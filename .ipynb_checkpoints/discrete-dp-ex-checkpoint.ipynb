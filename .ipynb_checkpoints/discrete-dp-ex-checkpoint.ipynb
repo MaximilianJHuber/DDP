{
 "cells": [
  {
   "cell_type": "code",
   "execution_count": 1,
   "metadata": {
    "collapsed": false
   },
   "outputs": [
    {
     "data": {
      "text/plain": [
       "linspace(1.0e-6,2.0,500)"
      ]
     },
     "execution_count": 1,
     "metadata": {},
     "output_type": "execute_result"
    }
   ],
   "source": [
    "alpha = 0.65\n",
    "f(k) = k.^alpha\n",
    "u(x) = log(x)\n",
    "beta = 0.95\n",
    "\n",
    "#grid for state variable k and action variable s:\n",
    "grid_max = 2\n",
    "grid_size = 500\n",
    "grid = linspace(1e-6, grid_max, grid_size)"
   ]
  },
  {
   "cell_type": "code",
   "execution_count": 2,
   "metadata": {
    "collapsed": false
   },
   "outputs": [
    {
     "data": {
      "text/plain": [
       "118841"
      ]
     },
     "execution_count": 2,
     "metadata": {},
     "output_type": "execute_result"
    }
   ],
   "source": [
    "C = reshape(f(grid),grid_size,1).-reshape(grid,1,grid_size)\n",
    "coord = repmat(collect(1:grid_size),1,grid_size) #coordinate matrix \n",
    "s_indices = coord[C.>0]\n",
    "a_indices = transpose(coord)[C.>0]\n",
    "L = length(a_indices)\n"
   ]
  },
  {
   "cell_type": "code",
   "execution_count": 3,
   "metadata": {
    "collapsed": false
   },
   "outputs": [],
   "source": [
    "R = u(C[C.>0]);"
   ]
  },
  {
   "cell_type": "code",
   "execution_count": 4,
   "metadata": {
    "collapsed": false
   },
   "outputs": [],
   "source": [
    "Q = spzeros(L,grid_size)\n",
    "\n",
    "for i in 1:L\n",
    "  Q[i,a_indices[i]] = 1\n",
    "end"
   ]
  },
  {
   "cell_type": "code",
   "execution_count": 5,
   "metadata": {
    "collapsed": false
   },
   "outputs": [
    {
     "name": "stdout",
     "output_type": "stream",
     "text": [
      "  1.253554 seconds (564.85 k allocations: 491.262 MB, 2.79% gc time)\n"
     ]
    }
   ],
   "source": [
    "using QuantEcon\n",
    "@time ddp = DiscreteDP(R, Q, beta, s_indices, a_indices);"
   ]
  },
  {
   "cell_type": "code",
   "execution_count": 9,
   "metadata": {
    "collapsed": false
   },
   "outputs": [
    {
     "name": "stdout",
     "output_type": "stream",
     "text": [
      " 11.401085 seconds (616 allocations: 4.966 GB, 8.04% gc time)\n"
     ]
    }
   ],
   "source": [
    "@time results = solve(ddp, PFI);"
   ]
  },
  {
   "cell_type": "code",
   "execution_count": null,
   "metadata": {
    "collapsed": false
   },
   "outputs": [],
   "source": [
    "v, sigma, num_iter = results.v, results.sigma, results.num_iter\n",
    "\n",
    "num_iter"
   ]
  },
  {
   "cell_type": "code",
   "execution_count": null,
   "metadata": {
    "collapsed": false
   },
   "outputs": [],
   "source": [
    "c = f(grid) - grid[sigma]\n",
    "\n",
    "ab = alpha * beta\n",
    "c1 = (log(1 - alpha * beta) + log(alpha * beta) * alpha * beta / (1 - alpha * beta)) / (1 - beta)\n",
    "c2 = alpha / (1 - alpha * beta)\n",
    "\n",
    "v_star(k) = c1 + c2 * log(k)\n",
    "c_star(k) = (1 - alpha * beta) * k.^alpha\n",
    "\n",
    "using PyPlot\n",
    "fig, (ax1, ax2) = subplots(1, 2, figsize=(14, 4))\n",
    "\n",
    "\n",
    "ax1[:set_ylim](-40, -32)\n",
    "ax1[:set_xlim](grid[1], grid[end])\n",
    "ax2[:set_xlim](grid[1], grid[end])\n",
    "\n",
    "lb0 = \"discrete value function\"\n",
    "ax1[:plot](grid, v, lw=2, alpha=0.6, label=lb0)\n",
    "lb0 = \"continuous value function\"\n",
    "ax1[:plot](grid, v_star(grid), \"k-\", lw=1.5, alpha=0.8, label=lb0)\n",
    "ax1[:legend](loc=\"upper left\")\n",
    "\n",
    "lb1 = \"discrete optimal consumption\"\n",
    "ax2[:plot](grid, c, \"b-\", lw=2, alpha=0.6, label=lb1)\n",
    "lb1 = \"continuous optimal consumption\"\n",
    "ax2[:plot](grid, c_star(grid), \"k-\", lw=1.5, alpha=0.8, label=lb1)\n",
    "ax2[:legend](loc=\"upper left\")\n",
    "\n",
    "maximum(abs(v - v_star(grid)))\n",
    "\n",
    "maximum(abs(v - v_star(grid))[2:end])\n",
    "\n",
    "maximum(abs(c - c_star(grid)))"
   ]
  },
  {
   "cell_type": "code",
   "execution_count": null,
   "metadata": {
    "collapsed": true
   },
   "outputs": [],
   "source": []
  },
  {
   "cell_type": "code",
   "execution_count": null,
   "metadata": {
    "collapsed": true
   },
   "outputs": [],
   "source": []
  }
 ],
 "metadata": {
  "anaconda-cloud": {},
  "kernelspec": {
   "display_name": "Julia 0.4.6",
   "language": "julia",
   "name": "julia-0.4"
  },
  "language_info": {
   "file_extension": ".jl",
   "mimetype": "application/julia",
   "name": "julia",
   "version": "0.4.6"
  }
 },
 "nbformat": 4,
 "nbformat_minor": 0
}
